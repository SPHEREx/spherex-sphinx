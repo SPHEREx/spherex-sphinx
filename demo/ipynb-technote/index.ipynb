{
 "cells": [
  {
   "cell_type": "markdown",
   "metadata": {},
   "source": [
    "# Test SPHEREx Technote\n",
    "\n",
    "```{abstract}\n",
    "The abstract is a brief summary of the document. In technotes it is specially marked up with an `abstract` directive.\n",
    "```"
   ]
  },
  {
   "cell_type": "markdown",
   "metadata": {},
   "source": [
    "## Introduction\n",
    "\n",
    "Lorem ipsum dolor sit amet, consectetur adipiscing elit. Sed ac purus sit amet nunc maximus ultricies. Nullam nec magna nec nuncegestas tincidunt ut ac justo. {cite}`SPHEREx_SPIE`\n",
    "\n",
    "Lorem ipsum dolor sit amet, consectetur adipiscing elit. Sed euismod, nisl quis molestie ultricies, nunc nisl aliquet nunc, quis aliquam nisl nunc eu nisl."
   ]
  },
  {
   "cell_type": "markdown",
   "metadata": {},
   "source": [
    "## Images and figures\n",
    "\n",
    "A figure with a caption:\n",
    "\n",
    "```{figure} https://placehold.co/400x400\n",
    "\n",
    "A placeholder image.\n",
    "```\n",
    "\n",
    "### Wide figures\n",
    "\n",
    "A figure marked with the `technote-wide-content` class applied as a `figclass` option:\n",
    "\n",
    "```{figure} https://placehold.co/1200x400\n",
    ":figclass: technote-wide-content\n",
    "\n",
    "Lorem ipsum dolor sit amet, consectetur adipiscing elit. Sed euismod, nisl quis molestie ultricies, nunc nisl aliquet nunc, quis aliquam nisl nunc eu nisl.\n",
    "```"
   ]
  },
  {
   "cell_type": "markdown",
   "metadata": {},
   "source": [
    "## Code blocks\n",
    "\n",
    "A regular code cell:"
   ]
  },
  {
   "cell_type": "code",
   "execution_count": null,
   "metadata": {
    "vscode": {
     "languageId": "plaintext"
    }
   },
   "outputs": [],
   "source": [
    "print(\"Hello, world!\")"
   ]
  },
  {
   "cell_type": "markdown",
   "metadata": {},
   "source": [
    "A static code block with a caption:\n",
    "\n",
    "And with a caption:\n",
    "\n",
    "```{code-block} python\n",
    ":caption: A code block with a caption\n",
    "\n",
    "print(\"Hello, world!\")\n",
    "```\n",
    "\n",
    "A wide code block without a caption:\n",
    "\n",
    "```{rst-class} technote-wide-content\n",
    "\n",
    "```\n",
    "\n",
    "```{code-block} python\n",
    "print(\"Hello, world! This is a code block. Lorem ipsum dolor sit amet, consectetur adipiscing elit. Sed euismod, nisl quis molestie ultricies, nunc nisl aliquet nunc, quis aliquam nisl nunc eu nisl.\")\n",
    "```\n",
    "\n",
    "A wide code block with a caption where the class is set externally:\n",
    "\n",
    "```{rst-class} technote-wide-content\n",
    "\n",
    "```\n",
    "\n",
    "```{code-block} python\n",
    ":caption: A wide code block. This is a long caption. Lorem ipsum dolor sit amet, consectetur adipiscing elit. Sed euismod, nisl quis molestie ultricies, nunc nisl aliquet nunc, quis aliquam nisl nunc eu nisl.\n",
    "\n",
    "print(\"Hello, world! This is a code block. Lorem ipsum dolor sit amet, consectetur adipiscing elit. Sed euismod, nisl quis molestie ultricies, nunc nisl aliquet nunc, quis aliquam nisl nunc eu nisl.\")\n",
    "```"
   ]
  },
  {
   "cell_type": "markdown",
   "metadata": {},
   "source": [
    "## Admonitions\n",
    "\n",
    "An admonition:\n",
    "\n",
    "```{note}\n",
    "This is a note. Lorem ipsum dolor sit amet, consectetur adipiscing elit. Sed euismod, nisl quis molestie ultricies, nunc nisl aliquet nunc, quis aliquam nisl nunc eu nisl.\n",
    "\n",
    "Lorem ipsum dolor sit amet, consectetur adipiscing elit. Sed euismod, nisl quis molestie ultricies, nunc nisl aliquet nunc, quis aliquam nisl nunc eu nisl.\n",
    "```"
   ]
  },
  {
   "cell_type": "markdown",
   "metadata": {},
   "source": [
    "## Lists\n",
    "\n",
    "A bulleted list:\n",
    "\n",
    "- Item 1\n",
    "- Item 2\n",
    "- Item 3\n",
    "\n",
    "A numbered list:\n",
    "\n",
    "1. Item 1\n",
    "2. Item 2\n",
    "3. Item 3\n",
    "\n",
    "A bulleted list with a nested numbered list:\n",
    "\n",
    "- Item 1\n",
    "  1. Item 1.1\n",
    "  2. Item 1.2\n",
    "- Item 2\n",
    "- Item 3\n",
    "\n",
    "A definition list:\n",
    "\n",
    "term 1\n",
    ": Definition 1\n",
    "\n",
    "term 2\n",
    ": Definition 2 Lorem ipsum dolor sit amet, consectetur adipiscing elit. Sed euismod, nisl quis molestie ultricies, nunc nisl aliquet nunc, quis aliquam nisl nunc eu nisl."
   ]
  },
  {
   "cell_type": "markdown",
   "metadata": {},
   "source": [
    "## References\n",
    "\n",
    "```{bibliography}\n",
    "\n",
    "```"
   ]
  }
 ],
 "metadata": {
  "language_info": {
   "name": "python"
  }
 },
 "nbformat": 4,
 "nbformat_minor": 2
}
